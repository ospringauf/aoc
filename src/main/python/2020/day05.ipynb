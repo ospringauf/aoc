{
 "metadata": {
  "language_info": {
   "codemirror_mode": {
    "name": "ipython",
    "version": 3
   },
   "file_extension": ".py",
   "mimetype": "text/x-python",
   "name": "python",
   "nbconvert_exporter": "python",
   "pygments_lexer": "ipython3",
   "version": "3.8.5-final"
  },
  "orig_nbformat": 2,
  "kernelspec": {
   "name": "python38564bitd19eb959425b4877a1de506a344bb740",
   "display_name": "Python 3.8.5 64-bit"
  }
 },
 "nbformat": 4,
 "nbformat_minor": 2,
 "cells": [
  {
   "cell_type": "code",
   "execution_count": 20,
   "metadata": {},
   "outputs": [],
   "source": [
    "with open(\"input05.txt\") as f:\n",
    "    data = [x.strip() for x in f.readlines()]\n",
    "\n",
    "passes = [s.replace('F','0').replace('B','1').replace('L','0').replace('R','1') for s in data] \n",
    "passes = [int(s, 2) for s in passes]"
   ]
  },
  {
   "cell_type": "code",
   "execution_count": 21,
   "metadata": {},
   "outputs": [
    {
     "output_type": "execute_result",
     "data": {
      "text/plain": [
       "919"
      ]
     },
     "metadata": {},
     "execution_count": 21
    }
   ],
   "source": [
    "maxpass = max(passes)\n",
    "maxpass"
   ]
  },
  {
   "cell_type": "code",
   "execution_count": 22,
   "metadata": {},
   "outputs": [
    {
     "output_type": "execute_result",
     "data": {
      "text/plain": [
       "[642]"
      ]
     },
     "metadata": {},
     "execution_count": 22
    }
   ],
   "source": [
    "[i for i in range(0,maxpass) if i-1 in passes and i not in passes and i+1 in passes]"
   ]
  }
 ]
}
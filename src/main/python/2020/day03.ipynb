{
 "metadata": {
  "language_info": {
   "codemirror_mode": {
    "name": "ipython",
    "version": 3
   },
   "file_extension": ".py",
   "mimetype": "text/x-python",
   "name": "python",
   "nbconvert_exporter": "python",
   "pygments_lexer": "ipython3",
   "version": "3.8.5-final"
  },
  "orig_nbformat": 2,
  "kernelspec": {
   "name": "python38564bitd19eb959425b4877a1de506a344bb740",
   "display_name": "Python 3.8.5 64-bit"
  }
 },
 "nbformat": 4,
 "nbformat_minor": 2,
 "cells": [
  {
   "cell_type": "code",
   "execution_count": 1,
   "metadata": {},
   "outputs": [],
   "source": [
    "with open(\"input03.txt\") as f:\n",
    "    data = [x.strip() for x in f.readlines()]"
   ]
  },
  {
   "cell_type": "code",
   "execution_count": 2,
   "metadata": {},
   "outputs": [],
   "source": [
    "from collections import namedtuple\n",
    "Point = namedtuple(\"Point\", \"x y\")"
   ]
  },
  {
   "cell_type": "code",
   "execution_count": 3,
   "metadata": {},
   "outputs": [],
   "source": [
    "def slope1(p):\n",
    "    return Point(p.x+3, p.y+1)"
   ]
  },
  {
   "cell_type": "code",
   "execution_count": 4,
   "metadata": {},
   "outputs": [],
   "source": [
    "def trees(nextf):\n",
    "    p = Point(0,0)\n",
    "    height = len(data)\n",
    "    width = len(data[0])\n",
    "    trees = 0\n",
    "    while p.y < height:\n",
    "        trees += (data[p.y][p.x] == \"#\")\n",
    "        p = nextf(p)\n",
    "        p = Point(p.x % width, p.y)\n",
    "    return trees"
   ]
  },
  {
   "cell_type": "code",
   "execution_count": 5,
   "metadata": {},
   "outputs": [
    {
     "output_type": "execute_result",
     "data": {
      "text/plain": [
       "153"
      ]
     },
     "metadata": {},
     "execution_count": 5
    }
   ],
   "source": [
    "trees(slope1)"
   ]
  },
  {
   "cell_type": "code",
   "execution_count": 6,
   "metadata": {},
   "outputs": [
    {
     "output_type": "execute_result",
     "data": {
      "text/plain": [
       "2421944712"
      ]
     },
     "metadata": {},
     "execution_count": 6
    }
   ],
   "source": [
    "slope0 = lambda p: Point(p.x+1, p.y+1)\n",
    "slope2 = lambda p: Point(p.x+5, p.y+1)\n",
    "slope3 = lambda p: Point(p.x+7, p.y+1)\n",
    "slope4 = lambda p: Point(p.x+1, p.y+2)\n",
    "trees(slope0) * trees(slope1) * trees(slope2) * trees(slope3) * trees(slope4)"
   ]
  }
 ]
}
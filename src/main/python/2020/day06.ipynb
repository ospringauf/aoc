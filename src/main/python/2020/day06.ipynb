{
 "metadata": {
  "language_info": {
   "codemirror_mode": {
    "name": "ipython",
    "version": 3
   },
   "file_extension": ".py",
   "mimetype": "text/x-python",
   "name": "python",
   "nbconvert_exporter": "python",
   "pygments_lexer": "ipython3",
   "version": "3.8.5-final"
  },
  "orig_nbformat": 2,
  "kernelspec": {
   "name": "python38564bitd19eb959425b4877a1de506a344bb740",
   "display_name": "Python 3.8.5 64-bit"
  }
 },
 "nbformat": 4,
 "nbformat_minor": 2,
 "cells": [
  {
   "cell_type": "code",
   "execution_count": 105,
   "metadata": {},
   "outputs": [],
   "source": [
    "with open(\"input06.txt\") as f:\n",
    "    data = f.read()\n",
    "\n",
    "data = [d.split(\"\\n\") for d in data.split(\"\\n\\n\")]"
   ]
  },
  {
   "cell_type": "code",
   "execution_count": 106,
   "metadata": {},
   "outputs": [
    {
     "output_type": "execute_result",
     "data": {
      "text/plain": [
       "{'a', 'b', 'c', 'd', 'e'}"
      ]
     },
     "metadata": {},
     "execution_count": 106
    }
   ],
   "source": [
    "set(\"zsdsahbdsadvz\") # turns string into character set\n",
    "set(\"\".join([\"abc\",\"bde\"]))"
   ]
  },
  {
   "cell_type": "code",
   "execution_count": 111,
   "metadata": {},
   "outputs": [
    {
     "output_type": "execute_result",
     "data": {
      "text/plain": [
       "6885"
      ]
     },
     "metadata": {},
     "execution_count": 111
    }
   ],
   "source": [
    "distinctPerGroup = [set(\"\".join(d)) for d in data]\n",
    "part1 = sum([len(a) for a in distinctPerGroup])\n",
    "# sum([len(set(\"\".join(d))) for d in data])\n",
    "part1"
   ]
  },
  {
   "cell_type": "code",
   "execution_count": 108,
   "metadata": {},
   "outputs": [],
   "source": [
    "#s = [set(x) for x in data[1]]\n",
    "#set.intersection(*s)"
   ]
  },
  {
   "cell_type": "code",
   "execution_count": 112,
   "metadata": {},
   "outputs": [
    {
     "output_type": "execute_result",
     "data": {
      "text/plain": [
       "3550"
      ]
     },
     "metadata": {},
     "execution_count": 112
    }
   ],
   "source": [
    "commonPerGroup = [set.intersection(*[set(x) for x in d]) for d in data]\n",
    "part2 = sum([len(a) for a in commonPerGroup])\n",
    "part2"
   ]
  }
 ]
}
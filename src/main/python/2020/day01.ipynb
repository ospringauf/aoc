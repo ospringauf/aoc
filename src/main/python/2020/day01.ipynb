{
 "metadata": {
  "language_info": {
   "codemirror_mode": {
    "name": "ipython",
    "version": 3
   },
   "file_extension": ".py",
   "mimetype": "text/x-python",
   "name": "python",
   "nbconvert_exporter": "python",
   "pygments_lexer": "ipython3",
   "version": "3.8.5-final"
  },
  "orig_nbformat": 2,
  "kernelspec": {
   "name": "python38564bitd19eb959425b4877a1de506a344bb740",
   "display_name": "Python 3.8.5 64-bit"
  }
 },
 "nbformat": 4,
 "nbformat_minor": 2,
 "cells": [
  {
   "cell_type": "code",
   "execution_count": 1,
   "metadata": {},
   "outputs": [],
   "source": [
    "with open(\"input01.txt\") as f:\n",
    "    data = f.readlines()\n",
    "    data = [int(x.strip()) for x in data]"
   ]
  },
  {
   "cell_type": "code",
   "execution_count": 2,
   "metadata": {
    "tags": []
   },
   "outputs": [
    {
     "output_type": "stream",
     "name": "stdout",
     "text": [
      "800139 1479 541\n"
     ]
    }
   ],
   "source": [
    "for i,n1 in enumerate(data):\n",
    "    for j,n2 in enumerate(data[i:]):\n",
    "        if (n1+n2==2020):\n",
    "            print(n1*n2, n1, n2) "
   ]
  },
  {
   "cell_type": "code",
   "execution_count": 3,
   "metadata": {},
   "outputs": [
    {
     "output_type": "stream",
     "name": "stdout",
     "text": [
      "59885340 285 131 1604\n59885340 285 1604 131\n59885340 131 1604 285\n"
     ]
    }
   ],
   "source": [
    "for i,n1 in enumerate(data):\n",
    "    for j,n2 in enumerate(data[i:]):\n",
    "        for k,n3 in enumerate(data[j:]):\n",
    "            if (n1+n2+n3==2020):\n",
    "                print(n1*n2*n3, n1,n2,n3) "
   ]
  },
  {
   "source": [],
   "cell_type": "code",
   "metadata": {},
   "execution_count": null,
   "outputs": []
  }
 ]
}
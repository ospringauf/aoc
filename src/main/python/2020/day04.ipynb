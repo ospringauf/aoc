{
 "metadata": {
  "language_info": {
   "codemirror_mode": {
    "name": "ipython",
    "version": 3
   },
   "file_extension": ".py",
   "mimetype": "text/x-python",
   "name": "python",
   "nbconvert_exporter": "python",
   "pygments_lexer": "ipython3",
   "version": "3.8.5-final"
  },
  "orig_nbformat": 2,
  "kernelspec": {
   "name": "python38564bitd19eb959425b4877a1de506a344bb740",
   "display_name": "Python 3.8.5 64-bit"
  }
 },
 "nbformat": 4,
 "nbformat_minor": 2,
 "cells": [
  {
   "cell_type": "code",
   "execution_count": 66,
   "metadata": {},
   "outputs": [],
   "source": [
    "import re\n",
    "with open(\"input04.txt\") as f:\n",
    "    data = f.read().split(\"\\n\\n\")\n",
    "\n",
    "required = ['byr', 'iyr' ,'eyr', 'hgt', 'hcl', 'ecl', 'pid']\n",
    "\n",
    "groups = [g.split() for g in data]\n",
    "# passport is key-value dict\n",
    "passports = [dict([(k,v) for k,v in [x.split(\":\") for x in g]]) for g in groups]"
   ]
  },
  {
   "cell_type": "code",
   "execution_count": 57,
   "metadata": {},
   "outputs": [],
   "source": [
    "def valid1(passport):\n",
    "    return all([key in passport.keys() for key in required])"
   ]
  },
  {
   "cell_type": "code",
   "execution_count": 122,
   "metadata": {},
   "outputs": [
    {
     "output_type": "execute_result",
     "data": {
      "text/plain": [
       "219"
      ]
     },
     "metadata": {},
     "execution_count": 122
    }
   ],
   "source": [
    "sum(valid1(pp) for pp in passports)"
   ]
  },
  {
   "cell_type": "code",
   "execution_count": 124,
   "metadata": {},
   "outputs": [],
   "source": [
    "def validHeight(v):\n",
    "    unit = v[-2:]\n",
    "    if unit not in ['cm', 'in']: return False\n",
    "\n",
    "    val = int(v[:-2]) \n",
    "    if unit == 'cm':\n",
    "        return 150 <= val <= 193\n",
    "    else:\n",
    "        return 59 <= val <= 76\n",
    "\n",
    "def validEntry(k, v):\n",
    "    check = {\n",
    "        'byr' : lambda v: 1920 <= int(v) <= 2002,\n",
    "        'iyr' : lambda v: 2010 <= int(v) <= 2020,\n",
    "        'eyr' : lambda v: 2020 <= int(v) <= 2030,\n",
    "        'hgt' : validHeight,\n",
    "        'hcl' : lambda v: bool(re.match(\"^#[0-9a-f]{6}$\", v)),\n",
    "        'pid' : lambda v: bool(re.match(\"^[0-9]{9}$\", v)),\n",
    "        'ecl' : lambda v: v in ['amb', 'blu', 'brn', 'gry', 'grn', 'hzl', 'oth'],\n",
    "        'cid' : lambda v: True\n",
    "    }\n",
    "    return check[k](v)\n",
    "\n",
    "def valid2(passport):\n",
    "    return valid1(passport) and all([validEntry(k,v) for (k,v) in passport.items()])"
   ]
  },
  {
   "cell_type": "code",
   "execution_count": 125,
   "metadata": {},
   "outputs": [
    {
     "output_type": "execute_result",
     "data": {
      "text/plain": [
       "127"
      ]
     },
     "metadata": {},
     "execution_count": 125
    }
   ],
   "source": [
    "sum(valid2(pp) for pp in passports)"
   ]
  }
 ]
}
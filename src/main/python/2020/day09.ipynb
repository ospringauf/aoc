{
 "metadata": {
  "language_info": {
   "codemirror_mode": {
    "name": "ipython",
    "version": 3
   },
   "file_extension": ".py",
   "mimetype": "text/x-python",
   "name": "python",
   "nbconvert_exporter": "python",
   "pygments_lexer": "ipython3",
   "version": "3.8.5-final"
  },
  "orig_nbformat": 2,
  "kernelspec": {
   "name": "python38564bitd19eb959425b4877a1de506a344bb740",
   "display_name": "Python 3.8.5 64-bit",
   "language": "python"
  }
 },
 "nbformat": 4,
 "nbformat_minor": 2,
 "cells": [
  {
   "cell_type": "code",
   "execution_count": 95,
   "metadata": {},
   "outputs": [],
   "source": [
    "# example\n",
    "data=[35,20,15,25,47,40,62,55,65,95,102,117,150,182,127,219,299,277,309,576]\n",
    "preamble=5"
   ]
  },
  {
   "cell_type": "code",
   "execution_count": 96,
   "metadata": {},
   "outputs": [],
   "source": [
    "with open(\"input09.txt\") as f: data = [int(x.strip()) for x in f.readlines()]\n",
    "preamble=25"
   ]
  },
  {
   "cell_type": "code",
   "execution_count": 97,
   "metadata": {},
   "outputs": [],
   "source": [
    "def issum(s, r):\n",
    "    return any([(s-x) in r for x in r])"
   ]
  },
  {
   "cell_type": "code",
   "execution_count": 98,
   "metadata": {
    "tags": []
   },
   "outputs": [
    {
     "output_type": "stream",
     "name": "stdout",
     "text": [
      "29221323\n"
     ]
    }
   ],
   "source": [
    "for i in range(preamble+1, len(data)):\n",
    "    s=data[i]\n",
    "    if not issum(s, data[i-preamble:i]):  \n",
    "        part1=s\n",
    "        print(s)\n",
    "        break"
   ]
  },
  {
   "cell_type": "code",
   "execution_count": 99,
   "metadata": {},
   "outputs": [
    {
     "output_type": "execute_result",
     "data": {
      "text/plain": [
       "[1149640,\n",
       " 1330437,\n",
       " 1911355,\n",
       " 1239806,\n",
       " 1328374,\n",
       " 1912577,\n",
       " 1476345,\n",
       " 3239729,\n",
       " 1654048,\n",
       " 1655666,\n",
       " 1594821,\n",
       " 1584068,\n",
       " 1608129,\n",
       " 1758938,\n",
       " 1700648,\n",
       " 1711401,\n",
       " 2365341]"
      ]
     },
     "metadata": {},
     "execution_count": 99
    }
   ],
   "source": [
    "r = [data[a:b] for a in range(0, len(data)) for b in range(a+1, len(data))  if sum(data[a:b])==part1 ][0]\n",
    "r"
   ]
  },
  {
   "cell_type": "code",
   "execution_count": 100,
   "metadata": {},
   "outputs": [
    {
     "output_type": "execute_result",
     "data": {
      "text/plain": [
       "4389369"
      ]
     },
     "metadata": {},
     "execution_count": 100
    }
   ],
   "source": [
    "min(r)+max(r)"
   ]
  }
 ]
}
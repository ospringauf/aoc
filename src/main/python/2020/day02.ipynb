{
 "metadata": {
  "language_info": {
   "codemirror_mode": {
    "name": "ipython",
    "version": 3
   },
   "file_extension": ".py",
   "mimetype": "text/x-python",
   "name": "python",
   "nbconvert_exporter": "python",
   "pygments_lexer": "ipython3",
   "version": "3.8.5-final"
  },
  "orig_nbformat": 2,
  "kernelspec": {
   "name": "python38564bitd19eb959425b4877a1de506a344bb740",
   "display_name": "Python 3.8.5 64-bit"
  }
 },
 "nbformat": 4,
 "nbformat_minor": 2,
 "cells": [
  {
   "cell_type": "code",
   "execution_count": 11,
   "metadata": {},
   "outputs": [],
   "source": [
    "import re\n",
    "with open(\"input02.txt\") as f:\n",
    "    data = f.readlines()\n",
    "    data = [x.strip() for x in data]\n",
    "\n",
    "def parse(s):\n",
    "    (p1, p2, le, pw) = re.split('[ :-]+', s)\n",
    "    return (int(p1), int(p2), le, pw)\n",
    "\n",
    "rules = [parse(s) for s in data]    "
   ]
  },
  {
   "source": [
    "## Part 1"
   ],
   "cell_type": "markdown",
   "metadata": {}
  },
  {
   "cell_type": "code",
   "execution_count": 12,
   "metadata": {},
   "outputs": [],
   "source": [
    "def check1(p1, p2, letter, pw):\n",
    "    return p1 <= pw.count(letter) <= p2"
   ]
  },
  {
   "source": [
    "sum(check1(*r) for r in rules)"
   ],
   "cell_type": "code",
   "metadata": {},
   "execution_count": 13,
   "outputs": [
    {
     "output_type": "execute_result",
     "data": {
      "text/plain": [
       "519"
      ]
     },
     "metadata": {},
     "execution_count": 13
    }
   ]
  },
  {
   "source": [
    "## Part 2"
   ],
   "cell_type": "markdown",
   "metadata": {}
  },
  {
   "cell_type": "code",
   "execution_count": 14,
   "metadata": {},
   "outputs": [],
   "source": [
    "def check2(p1, p2, letter, pw):\n",
    "    return (pw[p1-1] == letter) != (pw[p2-1] == letter)"
   ]
  },
  {
   "cell_type": "code",
   "execution_count": 15,
   "metadata": {},
   "outputs": [
    {
     "output_type": "execute_result",
     "data": {
      "text/plain": [
       "708"
      ]
     },
     "metadata": {},
     "execution_count": 15
    }
   ],
   "source": [
    "sum(check2(*r) for r in rules)"
   ]
  }
 ]
}
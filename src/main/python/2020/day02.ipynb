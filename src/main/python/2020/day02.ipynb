{
 "metadata": {
  "language_info": {
   "codemirror_mode": {
    "name": "ipython",
    "version": 3
   },
   "file_extension": ".py",
   "mimetype": "text/x-python",
   "name": "python",
   "nbconvert_exporter": "python",
   "pygments_lexer": "ipython3",
   "version": "3.7.5-final"
  },
  "orig_nbformat": 2,
  "kernelspec": {
   "name": "python3",
   "display_name": "Python 3.7.5 64-bit",
   "metadata": {
    "interpreter": {
     "hash": "0600588c3b5f4418cbe7b5ebc6825b479f3bc010269d8b60d75058cdd010adfe"
    }
   }
  }
 },
 "nbformat": 4,
 "nbformat_minor": 2,
 "cells": [
  {
   "cell_type": "code",
   "execution_count": null,
   "metadata": {},
   "outputs": [],
   "source": [
    "import re\n",
    "with open(\"input02.txt\") as f:\n",
    "    data = f.readlines()\n",
    "    data = [x.strip() for x in data]\n",
    "\n",
    "def parse(s):\n",
    "    p1, p2, le, pw = re.split('[ :-]+', s)\n",
    "    return (int(p1), int(p2), le, pw)\n",
    "\n",
    "rules = [parse(s) for s in data]    "
   ]
  },
  {
   "source": [
    "## Part 1"
   ],
   "cell_type": "markdown",
   "metadata": {}
  },
  {
   "cell_type": "code",
   "execution_count": null,
   "metadata": {},
   "outputs": [],
   "source": [
    "def check1(p1, p2, le, pw):\n",
    "    return p1 <= pw.count(le) <= p2"
   ]
  },
  {
   "source": [
    "sum(check1(*r) for r in rules)"
   ],
   "cell_type": "code",
   "metadata": {},
   "execution_count": null,
   "outputs": []
  },
  {
   "source": [
    "## Part 2"
   ],
   "cell_type": "markdown",
   "metadata": {}
  },
  {
   "cell_type": "code",
   "execution_count": null,
   "metadata": {},
   "outputs": [],
   "source": [
    "def check2(p1, p2, le, pw):\n",
    "    return (pw[p1-1] == le) != (pw[p2-1] == le)"
   ]
  },
  {
   "cell_type": "code",
   "execution_count": null,
   "metadata": {},
   "outputs": [],
   "source": [
    "sum(check2(*r) for r in rules)"
   ]
  }
 ]
}
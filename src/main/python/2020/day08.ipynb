{
 "metadata": {
  "language_info": {
   "codemirror_mode": {
    "name": "ipython",
    "version": 3
   },
   "file_extension": ".py",
   "mimetype": "text/x-python",
   "name": "python",
   "nbconvert_exporter": "python",
   "pygments_lexer": "ipython3",
   "version": "3.8.5-final"
  },
  "orig_nbformat": 2,
  "kernelspec": {
   "name": "python38564bitd19eb959425b4877a1de506a344bb740",
   "display_name": "Python 3.8.5 64-bit",
   "language": "python"
  }
 },
 "nbformat": 4,
 "nbformat_minor": 2,
 "cells": [
  {
   "cell_type": "code",
   "execution_count": 53,
   "metadata": {},
   "outputs": [],
   "source": [
    "example1 = \"\"\"nop +0\n",
    "acc +1\n",
    "jmp +4\n",
    "acc +3\n",
    "jmp -3\n",
    "acc -99\n",
    "acc +1\n",
    "jmp -4\n",
    "acc +6\"\"\"\n",
    "data = [s.strip() for s in example1.splitlines()]"
   ]
  },
  {
   "cell_type": "code",
   "execution_count": 54,
   "metadata": {},
   "outputs": [],
   "source": [
    "with open(\"input08.txt\") as f: data = [x.strip() for x in f.readlines()]"
   ]
  },
  {
   "cell_type": "code",
   "execution_count": 55,
   "metadata": {},
   "outputs": [],
   "source": [
    "data = [(x[0], int(x[1])) for x in [s.split(\" \") for s in data]]"
   ]
  },
  {
   "cell_type": "code",
   "execution_count": 56,
   "metadata": {},
   "outputs": [],
   "source": [
    "def runit(prog):\n",
    "    acc, idx = 0,0\n",
    "    seen=[]\n",
    "    ops =  {\n",
    "        'nop' : lambda acc,idx,a: (acc,idx+1),\n",
    "        'acc' : lambda acc,idx,a: (acc+a,idx+1),\n",
    "        'jmp' : lambda acc,idx,a: (acc,idx+a)\n",
    "    }\n",
    "\n",
    "    while (idx not in seen and idx < len(prog)):        \n",
    "        seen.append(idx)\n",
    "        instr = prog[idx]\n",
    "        acc,idx = ops[instr[0]](acc, idx, instr[1])\n",
    "        # print(instr, acc, idx)    \n",
    "\n",
    "    return (acc, idx==len(prog))"
   ]
  },
  {
   "cell_type": "code",
   "execution_count": 57,
   "metadata": {},
   "outputs": [
    {
     "output_type": "execute_result",
     "data": {
      "text/plain": [
       "(1949, False)"
      ]
     },
     "metadata": {},
     "execution_count": 57
    }
   ],
   "source": [
    "runit(data)"
   ]
  },
  {
   "cell_type": "code",
   "execution_count": 61,
   "metadata": {},
   "outputs": [
    {
     "output_type": "stream",
     "name": "stdout",
     "text": [
      "(2092, True)\n"
     ]
    }
   ],
   "source": [
    "for i in range(0, len(data)):\n",
    "    (instr,arg) = prog[i]\n",
    "    if (instr in { 'nop', 'jmp' }):\n",
    "        prog = data.copy()\n",
    "        prog[i] = ('jmp', arg) if instr=='nop' else ('nop', arg)\n",
    "        r = runit(prog)\n",
    "        if r[1]: print(r)\n"
   ]
  },
  {
   "cell_type": "code",
   "execution_count": null,
   "metadata": {},
   "outputs": [],
   "source": []
  }
 ]
}
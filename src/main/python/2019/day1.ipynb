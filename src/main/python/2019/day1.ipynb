{
 "cells": [
  {
   "cell_type": "code",
   "execution_count": 2,
   "metadata": {},
   "outputs": [],
   "source": [
    "data = [104489,69854,93424,103763,119636,130562,121744,84851,143661,94519,116576,148771,74038,131735,95594,125198,92217,84471,53518,97787,55422,137807,78806,74665,103930,121642,123008,104598,97383,129359,85372,88930,106944,118404,126095,67230,116697,85950,148291,123171,82736,52753,134746,53238,74952,105933,104613,115283,80320,139152,76455,66729,81209,130176,116843,67292,74262,131694,92817,51540,58957,143342,76896,129631,77148,129784,115307,96214,110538,51492,124376,78161,59821,58184,132524,130714,112653,137988,112269,62214,115989,123073,119711,82258,67695,81023,70012,93438,131749,103652,63557,88224,117414,75579,146422,139852,85116,124902,143167,147781]"
   ]
  },
  {
   "cell_type": "code",
   "execution_count": 9,
   "metadata": {},
   "outputs": [
    {
     "data": {
      "text/plain": [
       "3376997"
      ]
     },
     "execution_count": 9,
     "metadata": {},
     "output_type": "execute_result"
    }
   ],
   "source": [
    "sum(map(lambda x: int(x/3-2), data))"
   ]
  },
  {
   "cell_type": "code",
   "execution_count": 13,
   "metadata": {},
   "outputs": [
    {
     "data": {
      "text/plain": [
       "3376997"
      ]
     },
     "execution_count": 13,
     "metadata": {},
     "output_type": "execute_result"
    }
   ],
   "source": [
    "sum([ int(x/3-2) for x in data])"
   ]
  }
 ],
 "metadata": {
  "interpreter": {
   "hash": "31f2aee4e71d21fbe5cf8b01ff0e069b9275f58929596ceb00d14d90e3e16cd6"
  },
  "kernelspec": {
   "display_name": "Python 3.8.10 64-bit",
   "language": "python",
   "name": "python3"
  },
  "language_info": {
   "codemirror_mode": {
    "name": "ipython",
    "version": 3
   },
   "file_extension": ".py",
   "mimetype": "text/x-python",
   "name": "python",
   "nbconvert_exporter": "python",
   "pygments_lexer": "ipython3",
   "version": "3.8.10"
  },
  "orig_nbformat": 4
 },
 "nbformat": 4,
 "nbformat_minor": 2
}
